{
  "cells": [
    {
      "cell_type": "markdown",
      "source": [
        "#Reference\n",
        "Help taken from these sites:\n",
        "\n",
        "\n",
        "1.    https://towardsdatascience.com/transfer-learning-with-vgg16-and-keras-50ea161580b4\n",
        "2.   https://keras.io/api/applications/vgg/\n",
        "\n"
      ],
      "metadata": {
        "id": "Rwr9kmy39w48"
      }
    },
    {
      "cell_type": "code",
      "execution_count": null,
      "metadata": {
        "id": "R0kdzE4j2Wez"
      },
      "outputs": [],
      "source": [
        "import os\n",
        "import cv2\n",
        "from PIL import Image\n",
        "import tensorflow as tf\n",
        "from keras import backend as K\n",
        "from keras.models import load_model\n",
        "#from keras.preprocessing.image import img_to_array\n",
        "from tensorflow.keras.optimizers import Adam, RMSprop\n",
        "from tensorflow.keras.callbacks import ReduceLROnPlateau\n",
        "from tensorflow.keras.preprocessing.image import ImageDataGenerator\n",
        "\n"
      ]
    },
    {
      "cell_type": "code",
      "execution_count": null,
      "metadata": {
        "id": "PSHmrkZjz8OJ"
      },
      "outputs": [],
      "source": [
        "IMG_SHAPE  = 224\n",
        "batch_size = 8\n"
      ]
    },
    {
      "cell_type": "code",
      "execution_count": null,
      "metadata": {
        "id": "70OruQd50IJn"
      },
      "outputs": [],
      "source": [
        "train_dir = \"/content/drive/MyDrive/Project/dataset-split/train\"\n",
        "test_dir = \"/content/drive/MyDrive/Project/dataset-split/test\"\n",
        "valid_dir = \"/content/drive/MyDrive/Project/dataset-split/val\""
      ]
    },
    {
      "cell_type": "code",
      "execution_count": null,
      "metadata": {
        "colab": {
          "base_uri": "https://localhost:8080/"
        },
        "id": "RpX1q8TYz1Hv",
        "outputId": "4ed399f6-84ca-4a7a-a5d8-eccbd03fe90f"
      },
      "outputs": [
        {
          "output_type": "stream",
          "name": "stdout",
          "text": [
            "Found 1369 images belonging to 2 classes.\n",
            "Found 391 images belonging to 2 classes.\n",
            "Found 196 images belonging to 2 classes.\n"
          ]
        }
      ],
      "source": [
        "image_gen_train = ImageDataGenerator(rescale = 1./255)\n",
        "train_data_gen = image_gen_train.flow_from_directory(batch_size = batch_size,\n",
        "directory = train_dir,\n",
        "shuffle= True,\n",
        "target_size = (IMG_SHAPE,IMG_SHAPE),\n",
        "class_mode = 'binary')\n",
        "image_generator_validation = ImageDataGenerator(rescale=1./255)\n",
        "val_data_gen = image_generator_validation.flow_from_directory(batch_size=batch_size,\n",
        "directory=valid_dir,\n",
        "target_size=(IMG_SHAPE, IMG_SHAPE),\n",
        "class_mode='binary')\n",
        "image_gen_test = ImageDataGenerator(rescale=1./255)\n",
        "test_data_gen = image_gen_test.flow_from_directory(batch_size=batch_size,\n",
        "directory=test_dir,\n",
        "target_size=(IMG_SHAPE, IMG_SHAPE),\n",
        "class_mode='binary')\n",
        "total_train=825\n",
        "total_val=235"
      ]
    },
    {
      "cell_type": "code",
      "execution_count": null,
      "metadata": {
        "id": "QVXQnvSCXfyF",
        "colab": {
          "base_uri": "https://localhost:8080/"
        },
        "outputId": "f3401a8c-7c5a-4752-e9a1-4723aba0a8d7"
      },
      "outputs": [
        {
          "output_type": "stream",
          "name": "stdout",
          "text": [
            "Downloading data from https://storage.googleapis.com/tensorflow/keras-applications/vgg16/vgg16_weights_tf_dim_ordering_tf_kernels_notop.h5\n",
            "58889256/58889256 [==============================] - 4s 0us/step\n"
          ]
        }
      ],
      "source": [
        "from keras.applications import vgg16\n",
        "\n",
        "\n",
        "img_rows, img_cols = 224, 224\n",
        "\n",
        "\n",
        "pre_trained_model = vgg16.VGG16(weights = 'imagenet',\n",
        "                 include_top = False,\n",
        "                 input_shape = (img_rows, img_cols, 3))\n",
        "\n",
        "# Here we freeze the last 4 layers\n",
        "# Layers are set to trainable as True by default\n",
        "for layer in pre_trained_model.layers:\n",
        "    layer.trainable = False"
      ]
    },
    {
      "cell_type": "code",
      "execution_count": null,
      "metadata": {
        "id": "JAivu6t7yCQY"
      },
      "outputs": [],
      "source": [
        "last_layer = pre_trained_model.get_layer('block5_pool')\n",
        "last_output = last_layer.output\n",
        "x = tf.keras.layers.GlobalMaxPooling2D()(last_output)\n",
        "x = tf.keras.layers.Dense(1024, activation='relu')(x)\n",
        "x = tf.keras.layers.Dense(512, activation='relu')(x)\n",
        "x = tf.keras.layers.Dense(256, activation='relu')(x)\n",
        "x = tf.keras.layers.Dropout(0.5)(x)\n",
        "x = tf.keras.layers.Dense(2, activation='sigmoid')(x)\n"
      ]
    },
    {
      "cell_type": "code",
      "execution_count": null,
      "metadata": {
        "id": "lIRAf9LRyRn0"
      },
      "outputs": [],
      "source": [
        "model = tf.keras.Model(pre_trained_model.input, x)\n"
      ]
    },
    {
      "cell_type": "code",
      "execution_count": null,
      "metadata": {
        "id": "tUlT7ar8yUQ0"
      },
      "outputs": [],
      "source": [
        "model.compile(optimizer='adam', loss=tf.keras.losses.sparse_categorical_crossentropy, metrics=['acc'])\n"
      ]
    },
    {
      "cell_type": "code",
      "execution_count": null,
      "metadata": {
        "colab": {
          "base_uri": "https://localhost:8080/"
        },
        "id": "V3-whomMyXZ3",
        "outputId": "892918c6-4fd6-4b2e-d3a0-17179c4173f3"
      },
      "outputs": [
        {
          "output_type": "stream",
          "name": "stdout",
          "text": [
            "Model: \"model\"\n",
            "_________________________________________________________________\n",
            " Layer (type)                Output Shape              Param #   \n",
            "=================================================================\n",
            " input_1 (InputLayer)        [(None, 224, 224, 3)]     0         \n",
            "                                                                 \n",
            " block1_conv1 (Conv2D)       (None, 224, 224, 64)      1792      \n",
            "                                                                 \n",
            " block1_conv2 (Conv2D)       (None, 224, 224, 64)      36928     \n",
            "                                                                 \n",
            " block1_pool (MaxPooling2D)  (None, 112, 112, 64)      0         \n",
            "                                                                 \n",
            " block2_conv1 (Conv2D)       (None, 112, 112, 128)     73856     \n",
            "                                                                 \n",
            " block2_conv2 (Conv2D)       (None, 112, 112, 128)     147584    \n",
            "                                                                 \n",
            " block2_pool (MaxPooling2D)  (None, 56, 56, 128)       0         \n",
            "                                                                 \n",
            " block3_conv1 (Conv2D)       (None, 56, 56, 256)       295168    \n",
            "                                                                 \n",
            " block3_conv2 (Conv2D)       (None, 56, 56, 256)       590080    \n",
            "                                                                 \n",
            " block3_conv3 (Conv2D)       (None, 56, 56, 256)       590080    \n",
            "                                                                 \n",
            " block3_pool (MaxPooling2D)  (None, 28, 28, 256)       0         \n",
            "                                                                 \n",
            " block4_conv1 (Conv2D)       (None, 28, 28, 512)       1180160   \n",
            "                                                                 \n",
            " block4_conv2 (Conv2D)       (None, 28, 28, 512)       2359808   \n",
            "                                                                 \n",
            " block4_conv3 (Conv2D)       (None, 28, 28, 512)       2359808   \n",
            "                                                                 \n",
            " block4_pool (MaxPooling2D)  (None, 14, 14, 512)       0         \n",
            "                                                                 \n",
            " block5_conv1 (Conv2D)       (None, 14, 14, 512)       2359808   \n",
            "                                                                 \n",
            " block5_conv2 (Conv2D)       (None, 14, 14, 512)       2359808   \n",
            "                                                                 \n",
            " block5_conv3 (Conv2D)       (None, 14, 14, 512)       2359808   \n",
            "                                                                 \n",
            " block5_pool (MaxPooling2D)  (None, 7, 7, 512)         0         \n",
            "                                                                 \n",
            " global_max_pooling2d (Glob  (None, 512)               0         \n",
            " alMaxPooling2D)                                                 \n",
            "                                                                 \n",
            " dense (Dense)               (None, 1024)              525312    \n",
            "                                                                 \n",
            " dense_1 (Dense)             (None, 512)               524800    \n",
            "                                                                 \n",
            " dense_2 (Dense)             (None, 256)               131328    \n",
            "                                                                 \n",
            " dropout (Dropout)           (None, 256)               0         \n",
            "                                                                 \n",
            " dense_3 (Dense)             (None, 2)                 514       \n",
            "                                                                 \n",
            "=================================================================\n",
            "Total params: 15896642 (60.64 MB)\n",
            "Trainable params: 1181954 (4.51 MB)\n",
            "Non-trainable params: 14714688 (56.13 MB)\n",
            "_________________________________________________________________\n"
          ]
        }
      ],
      "source": [
        "model.summary()"
      ]
    },
    {
      "cell_type": "code",
      "execution_count": null,
      "metadata": {
        "colab": {
          "base_uri": "https://localhost:8080/"
        },
        "id": "GZJu3jmn1ISd",
        "outputId": "854954df-a0fd-4b40-a892-5aeb0e69968b"
      },
      "outputs": [
        {
          "output_type": "stream",
          "name": "stdout",
          "text": [
            "Epoch 1/15\n",
            "103/103 [==============================] - 517s 5s/step - loss: 0.7425 - acc: 0.5109 - val_loss: 0.6982 - val_acc: 0.4569\n",
            "Epoch 2/15\n",
            "103/103 [==============================] - 191s 2s/step - loss: 0.6868 - acc: 0.5386 - val_loss: 0.6615 - val_acc: 0.4871\n",
            "Epoch 3/15\n",
            "103/103 [==============================] - 70s 679ms/step - loss: 0.6222 - acc: 0.6529 - val_loss: 0.4449 - val_acc: 0.8017\n",
            "Epoch 4/15\n",
            "103/103 [==============================] - 41s 405ms/step - loss: 0.4038 - acc: 0.8216 - val_loss: 0.2782 - val_acc: 0.8836\n",
            "Epoch 5/15\n",
            "103/103 [==============================] - 9s 86ms/step - loss: 0.3228 - acc: 0.8677 - val_loss: 0.2565 - val_acc: 0.9095\n",
            "Epoch 6/15\n",
            "103/103 [==============================] - 6s 60ms/step - loss: 0.3156 - acc: 0.8726 - val_loss: 0.2364 - val_acc: 0.9138\n",
            "Epoch 7/15\n",
            "103/103 [==============================] - 5s 53ms/step - loss: 0.3780 - acc: 0.8592 - val_loss: 0.2622 - val_acc: 0.8966\n",
            "Epoch 8/15\n",
            "103/103 [==============================] - 4s 39ms/step - loss: 0.2399 - acc: 0.9045 - val_loss: 0.2322 - val_acc: 0.9138\n",
            "Epoch 9/15\n",
            "103/103 [==============================] - 5s 45ms/step - loss: 0.2402 - acc: 0.9009 - val_loss: 0.2076 - val_acc: 0.9181\n",
            "Epoch 10/15\n",
            "103/103 [==============================] - 3s 32ms/step - loss: 0.3267 - acc: 0.8678 - val_loss: 0.2202 - val_acc: 0.9138\n",
            "Epoch 11/15\n",
            "103/103 [==============================] - 3s 33ms/step - loss: 0.2550 - acc: 0.8911 - val_loss: 0.4680 - val_acc: 0.7974\n",
            "Epoch 12/15\n",
            "103/103 [==============================] - 3s 32ms/step - loss: 0.2251 - acc: 0.9102 - val_loss: 0.2052 - val_acc: 0.9095\n",
            "Epoch 13/15\n",
            "103/103 [==============================] - 3s 33ms/step - loss: 0.2091 - acc: 0.9223 - val_loss: 0.1881 - val_acc: 0.9310\n",
            "Epoch 14/15\n",
            "103/103 [==============================] - 3s 32ms/step - loss: 0.2879 - acc: 0.8811 - val_loss: 0.2154 - val_acc: 0.9397\n",
            "Epoch 15/15\n",
            "103/103 [==============================] - 3s 30ms/step - loss: 0.1794 - acc: 0.9351 - val_loss: 0.1754 - val_acc: 0.9310\n"
          ]
        }
      ],
      "source": [
        "vgg_classifier = model.fit(train_data_gen,\n",
        "steps_per_epoch=(total_train//batch_size),\n",
        "epochs = 15,\n",
        "validation_data=val_data_gen,\n",
        "validation_steps=(total_val//batch_size),\n",
        "batch_size = batch_size,\n",
        "verbose = 1)\n"
      ]
    },
    {
      "cell_type": "code",
      "execution_count": null,
      "metadata": {
        "colab": {
          "base_uri": "https://localhost:8080/"
        },
        "id": "l3fkb25CQS0h",
        "outputId": "4ff8a49a-f5fa-406a-bb75-4104cf37c16a"
      },
      "outputs": [
        {
          "output_type": "stream",
          "name": "stdout",
          "text": [
            "25/25 [==============================] - 157s 7s/step - loss: 0.2225 - acc: 0.9031\n",
            "test_loss, test accuracy [0.22252042591571808, 0.9030612111091614]\n"
          ]
        }
      ],
      "source": [
        "result = model.evaluate(test_data_gen,batch_size=4)\n",
        "print(\"test_loss, test accuracy\",result)\n"
      ]
    },
    {
      "cell_type": "code",
      "source": [],
      "metadata": {
        "id": "04DR9z7hiWDU"
      },
      "execution_count": null,
      "outputs": []
    }
  ],
  "metadata": {
    "accelerator": "GPU",
    "colab": {
      "machine_shape": "hm",
      "provenance": [],
      "gpuType": "A100"
    },
    "kernelspec": {
      "display_name": "Python 3",
      "name": "python3"
    },
    "language_info": {
      "name": "python"
    }
  },
  "nbformat": 4,
  "nbformat_minor": 0
}