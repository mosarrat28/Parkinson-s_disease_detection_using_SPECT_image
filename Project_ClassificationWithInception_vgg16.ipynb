{
  "cells": [
    {
      "cell_type": "markdown",
      "source": [
        "#Reference:\n",
        "Help taken from these sites:\n",
        "\n",
        "\n",
        "*   https://towardsdatascience.com/transfer-learning-with-vgg16-and-keras-50ea161580b4\n",
        "*  https://keras.io/api/applications/vgg/\n",
        "*   https://www.analyticsvidhya.com/blog/2018/10/understanding-inception-network-from-scratch/\n",
        "\n",
        "\n"
      ],
      "metadata": {
        "id": "pZ9vJFvi6ZFq"
      }
    },
    {
      "cell_type": "code",
      "execution_count": null,
      "metadata": {
        "id": "R0kdzE4j2Wez"
      },
      "outputs": [],
      "source": [
        "import os\n",
        "import cv2\n",
        "from PIL import Image\n",
        "import tensorflow as tf\n",
        "from keras import backend as K\n",
        "from keras.models import load_model\n",
        "#from keras.preprocessing.image import img_to_array\n",
        "from tensorflow.keras.optimizers import Adam, RMSprop\n",
        "from tensorflow.keras.callbacks import ReduceLROnPlateau\n",
        "from tensorflow.keras.preprocessing.image import ImageDataGenerator\n",
        "\n"
      ]
    },
    {
      "cell_type": "code",
      "execution_count": null,
      "metadata": {
        "id": "PSHmrkZjz8OJ"
      },
      "outputs": [],
      "source": [
        "IMG_SHAPE  = 224\n",
        "batch_size = 16\n"
      ]
    },
    {
      "cell_type": "code",
      "execution_count": null,
      "metadata": {
        "id": "70OruQd50IJn"
      },
      "outputs": [],
      "source": [
        "train_dir = \"/content/drive/MyDrive/Project/dataset-split/train\"\n",
        "test_dir = \"/content/drive/MyDrive/Project/dataset-split/test\"\n",
        "valid_dir = \"/content/drive/MyDrive/Project/dataset-split/val\""
      ]
    },
    {
      "cell_type": "code",
      "execution_count": null,
      "metadata": {
        "colab": {
          "base_uri": "https://localhost:8080/"
        },
        "id": "RpX1q8TYz1Hv",
        "outputId": "e6077b2b-a777-462f-9f93-c2ad627dbe14"
      },
      "outputs": [
        {
          "output_type": "stream",
          "name": "stdout",
          "text": [
            "Found 1369 images belonging to 2 classes.\n",
            "Found 391 images belonging to 2 classes.\n",
            "Found 196 images belonging to 2 classes.\n"
          ]
        }
      ],
      "source": [
        "image_gen_train = ImageDataGenerator(rescale = 1./255)\n",
        "train_data_gen = image_gen_train.flow_from_directory(batch_size = batch_size,\n",
        "directory = train_dir,\n",
        "shuffle= True,\n",
        "target_size = (IMG_SHAPE,IMG_SHAPE),\n",
        "class_mode = 'binary')\n",
        "image_generator_validation = ImageDataGenerator(rescale=1./255)\n",
        "val_data_gen = image_generator_validation.flow_from_directory(batch_size=batch_size,\n",
        "directory=valid_dir,\n",
        "target_size=(IMG_SHAPE, IMG_SHAPE),\n",
        "class_mode='binary')\n",
        "image_gen_test = ImageDataGenerator(rescale=1./255)\n",
        "test_data_gen = image_gen_test.flow_from_directory(batch_size=batch_size,\n",
        "directory=test_dir,\n",
        "target_size=(IMG_SHAPE, IMG_SHAPE),\n",
        "class_mode='binary')\n",
        "total_train=825\n",
        "total_val=235"
      ]
    },
    {
      "cell_type": "code",
      "execution_count": null,
      "metadata": {
        "colab": {
          "base_uri": "https://localhost:8080/"
        },
        "id": "QVXQnvSCXfyF",
        "outputId": "052de13f-73d9-4810-e743-d1592497badd"
      },
      "outputs": [
        {
          "output_type": "stream",
          "name": "stdout",
          "text": [
            "Downloading data from https://storage.googleapis.com/tensorflow/keras-applications/vgg16/vgg16_weights_tf_dim_ordering_tf_kernels_notop.h5\n",
            "58889256/58889256 [==============================] - 0s 0us/step\n"
          ]
        }
      ],
      "source": [
        "from keras.applications import vgg16\n",
        "\n",
        "\n",
        "img_rows, img_cols = 224, 224\n",
        "\n",
        "\n",
        "pre_trained_model = vgg16.VGG16(weights = 'imagenet',\n",
        "                 include_top = False,\n",
        "                 input_shape = (img_rows, img_cols, 3))\n",
        "\n",
        "# Here we freeze the last 4 layers\n",
        "# Layers are set to trainable as True by default\n",
        "for layer in pre_trained_model.layers:\n",
        "    layer.trainable = False"
      ]
    },
    {
      "cell_type": "code",
      "execution_count": null,
      "metadata": {
        "colab": {
          "base_uri": "https://localhost:8080/"
        },
        "id": "AP6oj7l9RjBU",
        "outputId": "9c79f7ff-7493-4c60-afc8-b27f2e43643d"
      },
      "outputs": [
        {
          "output_type": "stream",
          "name": "stdout",
          "text": [
            "Model: \"vgg16\"\n",
            "_________________________________________________________________\n",
            " Layer (type)                Output Shape              Param #   \n",
            "=================================================================\n",
            " input_1 (InputLayer)        [(None, 224, 224, 3)]     0         \n",
            "                                                                 \n",
            " block1_conv1 (Conv2D)       (None, 224, 224, 64)      1792      \n",
            "                                                                 \n",
            " block1_conv2 (Conv2D)       (None, 224, 224, 64)      36928     \n",
            "                                                                 \n",
            " block1_pool (MaxPooling2D)  (None, 112, 112, 64)      0         \n",
            "                                                                 \n",
            " block2_conv1 (Conv2D)       (None, 112, 112, 128)     73856     \n",
            "                                                                 \n",
            " block2_conv2 (Conv2D)       (None, 112, 112, 128)     147584    \n",
            "                                                                 \n",
            " block2_pool (MaxPooling2D)  (None, 56, 56, 128)       0         \n",
            "                                                                 \n",
            " block3_conv1 (Conv2D)       (None, 56, 56, 256)       295168    \n",
            "                                                                 \n",
            " block3_conv2 (Conv2D)       (None, 56, 56, 256)       590080    \n",
            "                                                                 \n",
            " block3_conv3 (Conv2D)       (None, 56, 56, 256)       590080    \n",
            "                                                                 \n",
            " block3_pool (MaxPooling2D)  (None, 28, 28, 256)       0         \n",
            "                                                                 \n",
            " block4_conv1 (Conv2D)       (None, 28, 28, 512)       1180160   \n",
            "                                                                 \n",
            " block4_conv2 (Conv2D)       (None, 28, 28, 512)       2359808   \n",
            "                                                                 \n",
            " block4_conv3 (Conv2D)       (None, 28, 28, 512)       2359808   \n",
            "                                                                 \n",
            " block4_pool (MaxPooling2D)  (None, 14, 14, 512)       0         \n",
            "                                                                 \n",
            " block5_conv1 (Conv2D)       (None, 14, 14, 512)       2359808   \n",
            "                                                                 \n",
            " block5_conv2 (Conv2D)       (None, 14, 14, 512)       2359808   \n",
            "                                                                 \n",
            " block5_conv3 (Conv2D)       (None, 14, 14, 512)       2359808   \n",
            "                                                                 \n",
            " block5_pool (MaxPooling2D)  (None, 7, 7, 512)         0         \n",
            "                                                                 \n",
            "=================================================================\n",
            "Total params: 14714688 (56.13 MB)\n",
            "Trainable params: 0 (0.00 Byte)\n",
            "Non-trainable params: 14714688 (56.13 MB)\n",
            "_________________________________________________________________\n"
          ]
        }
      ],
      "source": [
        "pre_trained_model.summary()"
      ]
    },
    {
      "cell_type": "code",
      "execution_count": null,
      "metadata": {
        "id": "GG5A3zH3SkC9"
      },
      "outputs": [],
      "source": [
        "from keras.models import Sequential\n",
        "from keras.layers import Dense, Dropout, Activation\n",
        "from keras.optimizers import SGD\n"
      ]
    },
    {
      "cell_type": "code",
      "execution_count": null,
      "metadata": {
        "id": "z8_OLlBgRWxQ"
      },
      "outputs": [],
      "source": [
        "#Inception layer added to the last layer of VGG16\n",
        "from keras.layers import Conv2D, MaxPooling2D\n",
        "\n",
        "last_layer = pre_trained_model.get_layer('block5_pool')\n",
        "last_output = last_layer.output\n",
        "tower_1 = Conv2D(512, (1,1), padding='same', activation='relu')(last_output)\n",
        "tower_1 = Conv2D(512, (3,3), padding='same', activation='relu')(tower_1)\n",
        "tower_2 = Conv2D(128, (1,1), padding='same', activation='relu')(last_output)\n",
        "tower_2 = Conv2D(128, (5,5), padding='same', activation='relu')(tower_2)\n",
        "tower_3 = MaxPooling2D((3,3), strides=(1,1), padding='same')(last_output)\n",
        "tower_3 = Conv2D(64, (1,1), padding='same', activation='relu')(tower_3)\n",
        "#tower_3 = Conv2D(64, (1,1), padding='same', activation='relu')(tower_3)\n",
        "output = tf.keras.layers.concatenate([tower_1, tower_2, tower_3], axis = 3)\n",
        "from keras.layers import Flatten, Dense\n",
        "output = Flatten()(output)\n",
        "output = tf.keras.layers.Dense(128, activation='relu')(output)\n",
        "output = tf.keras.layers.Dense(64, activation='relu')(output)\n",
        "output = tf.keras.layers.Dense(32, activation='relu')(output)\n",
        "output = tf.keras.layers.Dropout(0.5)(output)\n",
        "\n",
        "\n",
        "\n",
        "x = Dense(2, activation='sigmoid')(output)\n",
        "\n"
      ]
    },
    {
      "cell_type": "code",
      "execution_count": null,
      "metadata": {
        "id": "lIRAf9LRyRn0"
      },
      "outputs": [],
      "source": [
        "model = tf.keras.Model(pre_trained_model.input, x)\n"
      ]
    },
    {
      "cell_type": "code",
      "execution_count": null,
      "metadata": {
        "id": "tUlT7ar8yUQ0"
      },
      "outputs": [],
      "source": [
        "model.compile(optimizer='adam', loss=tf.keras.losses.sparse_categorical_crossentropy, metrics=['acc'])\n"
      ]
    },
    {
      "cell_type": "code",
      "execution_count": null,
      "metadata": {
        "colab": {
          "base_uri": "https://localhost:8080/"
        },
        "id": "V3-whomMyXZ3",
        "outputId": "7fe1e4c0-5243-4099-fb66-9e04eea26925"
      },
      "outputs": [
        {
          "output_type": "stream",
          "name": "stdout",
          "text": [
            "Model: \"model\"\n",
            "__________________________________________________________________________________________________\n",
            " Layer (type)                Output Shape                 Param #   Connected to                  \n",
            "==================================================================================================\n",
            " input_1 (InputLayer)        [(None, 224, 224, 3)]        0         []                            \n",
            "                                                                                                  \n",
            " block1_conv1 (Conv2D)       (None, 224, 224, 64)         1792      ['input_1[0][0]']             \n",
            "                                                                                                  \n",
            " block1_conv2 (Conv2D)       (None, 224, 224, 64)         36928     ['block1_conv1[0][0]']        \n",
            "                                                                                                  \n",
            " block1_pool (MaxPooling2D)  (None, 112, 112, 64)         0         ['block1_conv2[0][0]']        \n",
            "                                                                                                  \n",
            " block2_conv1 (Conv2D)       (None, 112, 112, 128)        73856     ['block1_pool[0][0]']         \n",
            "                                                                                                  \n",
            " block2_conv2 (Conv2D)       (None, 112, 112, 128)        147584    ['block2_conv1[0][0]']        \n",
            "                                                                                                  \n",
            " block2_pool (MaxPooling2D)  (None, 56, 56, 128)          0         ['block2_conv2[0][0]']        \n",
            "                                                                                                  \n",
            " block3_conv1 (Conv2D)       (None, 56, 56, 256)          295168    ['block2_pool[0][0]']         \n",
            "                                                                                                  \n",
            " block3_conv2 (Conv2D)       (None, 56, 56, 256)          590080    ['block3_conv1[0][0]']        \n",
            "                                                                                                  \n",
            " block3_conv3 (Conv2D)       (None, 56, 56, 256)          590080    ['block3_conv2[0][0]']        \n",
            "                                                                                                  \n",
            " block3_pool (MaxPooling2D)  (None, 28, 28, 256)          0         ['block3_conv3[0][0]']        \n",
            "                                                                                                  \n",
            " block4_conv1 (Conv2D)       (None, 28, 28, 512)          1180160   ['block3_pool[0][0]']         \n",
            "                                                                                                  \n",
            " block4_conv2 (Conv2D)       (None, 28, 28, 512)          2359808   ['block4_conv1[0][0]']        \n",
            "                                                                                                  \n",
            " block4_conv3 (Conv2D)       (None, 28, 28, 512)          2359808   ['block4_conv2[0][0]']        \n",
            "                                                                                                  \n",
            " block4_pool (MaxPooling2D)  (None, 14, 14, 512)          0         ['block4_conv3[0][0]']        \n",
            "                                                                                                  \n",
            " block5_conv1 (Conv2D)       (None, 14, 14, 512)          2359808   ['block4_pool[0][0]']         \n",
            "                                                                                                  \n",
            " block5_conv2 (Conv2D)       (None, 14, 14, 512)          2359808   ['block5_conv1[0][0]']        \n",
            "                                                                                                  \n",
            " block5_conv3 (Conv2D)       (None, 14, 14, 512)          2359808   ['block5_conv2[0][0]']        \n",
            "                                                                                                  \n",
            " block5_pool (MaxPooling2D)  (None, 7, 7, 512)            0         ['block5_conv3[0][0]']        \n",
            "                                                                                                  \n",
            " conv2d (Conv2D)             (None, 7, 7, 512)            262656    ['block5_pool[0][0]']         \n",
            "                                                                                                  \n",
            " conv2d_2 (Conv2D)           (None, 7, 7, 128)            65664     ['block5_pool[0][0]']         \n",
            "                                                                                                  \n",
            " max_pooling2d (MaxPooling2  (None, 7, 7, 512)            0         ['block5_pool[0][0]']         \n",
            " D)                                                                                               \n",
            "                                                                                                  \n",
            " conv2d_1 (Conv2D)           (None, 7, 7, 512)            2359808   ['conv2d[0][0]']              \n",
            "                                                                                                  \n",
            " conv2d_3 (Conv2D)           (None, 7, 7, 128)            409728    ['conv2d_2[0][0]']            \n",
            "                                                                                                  \n",
            " conv2d_4 (Conv2D)           (None, 7, 7, 64)             32832     ['max_pooling2d[0][0]']       \n",
            "                                                                                                  \n",
            " concatenate (Concatenate)   (None, 7, 7, 704)            0         ['conv2d_1[0][0]',            \n",
            "                                                                     'conv2d_3[0][0]',            \n",
            "                                                                     'conv2d_4[0][0]']            \n",
            "                                                                                                  \n",
            " flatten (Flatten)           (None, 34496)                0         ['concatenate[0][0]']         \n",
            "                                                                                                  \n",
            " dense (Dense)               (None, 128)                  4415616   ['flatten[0][0]']             \n",
            "                                                                                                  \n",
            " dense_1 (Dense)             (None, 64)                   8256      ['dense[0][0]']               \n",
            "                                                                                                  \n",
            " dense_2 (Dense)             (None, 32)                   2080      ['dense_1[0][0]']             \n",
            "                                                                                                  \n",
            " dropout (Dropout)           (None, 32)                   0         ['dense_2[0][0]']             \n",
            "                                                                                                  \n",
            " dense_3 (Dense)             (None, 2)                    66        ['dropout[0][0]']             \n",
            "                                                                                                  \n",
            "==================================================================================================\n",
            "Total params: 22271394 (84.96 MB)\n",
            "Trainable params: 7556706 (28.83 MB)\n",
            "Non-trainable params: 14714688 (56.13 MB)\n",
            "__________________________________________________________________________________________________\n"
          ]
        }
      ],
      "source": [
        "model.summary()"
      ]
    },
    {
      "cell_type": "code",
      "execution_count": null,
      "metadata": {
        "id": "oB_93IhsfFAp"
      },
      "outputs": [],
      "source": [
        "import matplotlib.pyplot as plt\n",
        "\n",
        "def plot_hist(hist):\n",
        "    # Check the correct keys for training and validation accuracy\n",
        "    acc_key = \"accuracy\" if \"accuracy\" in hist.history else \"acc\"\n",
        "    val_acc_key = \"val_accuracy\" if \"val_accuracy\" in hist.history else \"val_acc\"\n",
        "\n",
        "    plt.plot(hist.history[acc_key])\n",
        "    plt.plot(hist.history[val_acc_key])\n",
        "    plt.title(\"Model Accuracy\")\n",
        "    plt.ylabel(\"Accuracy\")\n",
        "    plt.xlabel(\"Epoch\")\n",
        "    plt.legend([\"Train\", \"Validation\"], loc=\"upper left\")\n",
        "    plt.show()\n",
        "\n",
        "\n"
      ]
    },
    {
      "cell_type": "code",
      "execution_count": null,
      "metadata": {
        "colab": {
          "base_uri": "https://localhost:8080/"
        },
        "id": "GZJu3jmn1ISd",
        "outputId": "03dc08cc-42b3-4e63-e0c0-955cc471640c"
      },
      "outputs": [
        {
          "output_type": "stream",
          "name": "stdout",
          "text": [
            "Epoch 1/15\n",
            "51/51 [==============================] - 142s 3s/step - loss: 0.9360 - acc: 0.4767 - val_loss: 0.6933 - val_acc: 0.5000\n",
            "Epoch 2/15\n",
            "51/51 [==============================] - 61s 1s/step - loss: 0.6860 - acc: 0.5490 - val_loss: 0.6722 - val_acc: 0.8750\n",
            "Epoch 3/15\n",
            "51/51 [==============================] - 23s 454ms/step - loss: 0.6218 - acc: 0.6836 - val_loss: 0.5269 - val_acc: 0.8304\n",
            "Epoch 4/15\n",
            "51/51 [==============================] - 8s 151ms/step - loss: 0.4306 - acc: 0.8554 - val_loss: 0.2816 - val_acc: 0.9107\n",
            "Epoch 5/15\n",
            "51/51 [==============================] - 5s 97ms/step - loss: 0.2968 - acc: 0.8999 - val_loss: 0.1833 - val_acc: 0.9330\n",
            "Epoch 6/15\n",
            "51/51 [==============================] - 4s 79ms/step - loss: 0.2573 - acc: 0.9135 - val_loss: 0.1962 - val_acc: 0.9330\n",
            "Epoch 7/15\n",
            "51/51 [==============================] - 3s 67ms/step - loss: 0.2077 - acc: 0.9345 - val_loss: 0.1546 - val_acc: 0.9464\n",
            "Epoch 8/15\n",
            "51/51 [==============================] - 4s 70ms/step - loss: 0.2082 - acc: 0.9252 - val_loss: 0.2353 - val_acc: 0.9241\n",
            "Epoch 9/15\n",
            "51/51 [==============================] - 3s 65ms/step - loss: 0.2032 - acc: 0.9400 - val_loss: 0.1964 - val_acc: 0.9286\n",
            "Epoch 10/15\n",
            "51/51 [==============================] - 3s 63ms/step - loss: 0.1648 - acc: 0.9449 - val_loss: 0.1511 - val_acc: 0.9554\n",
            "Epoch 11/15\n",
            "51/51 [==============================] - 3s 65ms/step - loss: 0.1656 - acc: 0.9387 - val_loss: 0.1636 - val_acc: 0.9375\n",
            "Epoch 12/15\n",
            "51/51 [==============================] - 3s 68ms/step - loss: 0.1608 - acc: 0.9444 - val_loss: 0.1591 - val_acc: 0.9375\n",
            "Epoch 13/15\n",
            "51/51 [==============================] - 3s 65ms/step - loss: 0.2078 - acc: 0.9387 - val_loss: 0.1240 - val_acc: 0.9688\n",
            "Epoch 14/15\n",
            "51/51 [==============================] - 3s 68ms/step - loss: 0.1563 - acc: 0.9493 - val_loss: 0.1892 - val_acc: 0.9330\n",
            "Epoch 15/15\n",
            "51/51 [==============================] - 3s 64ms/step - loss: 0.1622 - acc: 0.9468 - val_loss: 0.1620 - val_acc: 0.9375\n"
          ]
        }
      ],
      "source": [
        "vgg_classifier = model.fit(train_data_gen,\n",
        "steps_per_epoch=(total_train//batch_size),\n",
        "epochs = 15,\n",
        "validation_data=val_data_gen,\n",
        "validation_steps=(total_val//batch_size),\n",
        "batch_size = batch_size,\n",
        "verbose = 1)\n"
      ]
    },
    {
      "cell_type": "code",
      "execution_count": null,
      "metadata": {
        "colab": {
          "base_uri": "https://localhost:8080/",
          "height": 472
        },
        "id": "cUh55uAFfKwX",
        "outputId": "9be419d2-36ae-4dd1-8af5-b5f1e08d0204"
      },
      "outputs": [
        {
          "output_type": "display_data",
          "data": {
            "text/plain": [
              "<Figure size 640x480 with 1 Axes>"
            ],
            "image/png": "[encoded data removed]"
          },
          "metadata": {}
        }
      ],
      "source": [
        "plot_hist(vgg_classifier)\n"
      ]
    },
    {
      "cell_type": "code",
      "execution_count": null,
      "metadata": {
        "colab": {
          "base_uri": "https://localhost:8080/"
        },
        "id": "l3fkb25CQS0h",
        "outputId": "327a6446-0bf8-4cb3-c9df-3417da335d5b"
      },
      "outputs": [
        {
          "name": "stdout",
          "output_type": "stream",
          "text": [
            "13/13 [==============================] - 30s 3s/step - loss: 0.1312 - acc: 0.9541\n",
            "test_loss, test accuracy [0.13123364746570587, 0.954081654548645]\n"
          ]
        }
      ],
      "source": [
        "result = model.evaluate(test_data_gen,batch_size=16)\n",
        "print(\"test_loss, test accuracy\",result)\n"
      ]
    }
  ],
  "metadata": {
    "accelerator": "GPU",
    "colab": {
      "machine_shape": "hm",
      "provenance": [],
      "gpuClass": "premium",
      "gpuType": "V100"
    },
    "kernelspec": {
      "display_name": "Python 3",
      "name": "python3"
    },
    "language_info": {
      "name": "python"
    }
  },
  "nbformat": 4,
  "nbformat_minor": 0
}